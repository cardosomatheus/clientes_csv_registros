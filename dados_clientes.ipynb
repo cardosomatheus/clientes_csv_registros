{
 "cells": [
  {
   "cell_type": "code",
   "execution_count": 23,
   "metadata": {},
   "outputs": [],
   "source": [
    "#   BIBLIOTECAS\n",
    "from faker import Faker\n",
    "from random import choice, randint\n",
    "import csv\n",
    "import pandas as pd\n"
   ]
  },
  {
   "cell_type": "code",
   "execution_count": 24,
   "metadata": {},
   "outputs": [],
   "source": [
    "f = Faker('pt_BR')\n",
    "quantidade = int(input('informe a quantidadde de registros a ser criado: '))"
   ]
  },
  {
   "cell_type": "code",
   "execution_count": 25,
   "metadata": {},
   "outputs": [],
   "source": [
    "#   telefones\n",
    "\n",
    "with open('tb_telefone.csv', 'a+', encoding='utf-8', newline='') as telefones_csv:\n",
    "    \n",
    "    for cadastro in range(quantidade):\n",
    "        \n",
    "        tipo_telefone = choice(['CEL', 'COM'])\n",
    "        ddd_telefone  = f.msisdn()[2:4]\n",
    "        num_telefone  = f.msisdn()[4:]\n",
    "\n",
    "        if ddd_telefone and num_telefone not in telefones_csv:\n",
    "            fieldnames = ['tipo', 'telefone', 'ddd']\n",
    "            writer     = csv.DictWriter(telefones_csv, fieldnames=fieldnames)\n",
    "            \n",
    "            if telefones_csv.tell() == 0:\n",
    "                writer.writeheader()\n",
    "\n",
    "            writer.writerow({'tipo':tipo_telefone, 'telefone':num_telefone,'ddd':ddd_telefone})\n",
    "        else:\n",
    "            cadastro -= 1"
   ]
  },
  {
   "cell_type": "code",
   "execution_count": 28,
   "metadata": {},
   "outputs": [],
   "source": [
    "#   endereços dos clientes\n",
    "with open('tb_endereco.csv', 'a+', encoding='utf-8', newline='') as enderecos_csv:\n",
    "    for cadastro in range(quantidade):\n",
    "        \n",
    "        uf          = f.estado()[0]\n",
    "        cidade      = f.city(), \n",
    "        bairro      = f.bairro()\n",
    "        rua         = f.street_name()\n",
    "        num_casa    = f.building_number()\n",
    "        \n",
    "        fieldnames  = ['sigla_uf','cidade','bairro','rua','num_casa']\n",
    "        writer      = csv.DictWriter(enderecos_csv, fieldnames=fieldnames)\n",
    "        \n",
    "        \n",
    "        \n",
    "        \n",
    "        if enderecos_csv.tell() == 0:\n",
    "            writer.writeheader()\n",
    "\n",
    "        writer.writerow({'sigla_uf':uf,'cidade':cidade[0],'bairro':bairro,'rua':rua,'num_casa':num_casa})"
   ]
  },
  {
   "cell_type": "code",
   "execution_count": 27,
   "metadata": {},
   "outputs": [],
   "source": [
    "#   cliente\n",
    "with open('tb_cliente.csv', 'a+', encoding='utf-8', newline='') as clientes_csv:\n",
    "    for cadastro in range(quantidade):\n",
    "        \n",
    "        genero  = choice(['M', 'F'])\n",
    "        estado  = f.estado_nome()\n",
    "        cpf     = f.cpf()\n",
    "        \n",
    "        if genero == 'M':\n",
    "            primeiro_nome = f.first_name_male()\n",
    "            sobrenome     =  f.last_name_male() \n",
    "            \n",
    "        elif genero == 'F':\n",
    "            primeiro_nome = f.first_name_female()\n",
    "            sobrenome     =  f.last_name_female()\n",
    "\n",
    "        if cpf not in clientes_csv:\n",
    "            fieldnames  = ['nome','sobrenome','genero','cpf','fk_endereco','fk_telefone']\n",
    "            writer      = csv.DictWriter(clientes_csv, fieldnames=fieldnames)\n",
    "        \n",
    "            if clientes_csv.tell() == 0:\n",
    "                writer.writeheader()\n",
    "\n",
    "            writer.writerow({'nome':primeiro_nome,'sobrenome':sobrenome,'genero':genero,'cpf':cpf,'fk_endereco': randint(1, quantidade), 'fk_telefone':randint(1, quantidade)})"
   ]
  }
 ],
 "metadata": {
  "kernelspec": {
   "display_name": "Python 3",
   "language": "python",
   "name": "python3"
  },
  "language_info": {
   "codemirror_mode": {
    "name": "ipython",
    "version": 3
   },
   "file_extension": ".py",
   "mimetype": "text/x-python",
   "name": "python",
   "nbconvert_exporter": "python",
   "pygments_lexer": "ipython3",
   "version": "3.11.7"
  },
  "orig_nbformat": 4
 },
 "nbformat": 4,
 "nbformat_minor": 2
}
