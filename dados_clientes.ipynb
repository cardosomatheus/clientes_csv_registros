{
 "cells": [
  {
   "cell_type": "code",
   "execution_count": 6,
   "metadata": {},
   "outputs": [],
   "source": [
    "#   BIBLIOTECAS\n",
    "from funcoes_clientes import separador_titulo, contagem_lihas_telefone, contagem_lihas_endereco\n",
    "from faker import Faker\n",
    "from random import choice\n",
    "from random import randint\n",
    "import pandas as pd"
   ]
  },
  {
   "cell_type": "code",
   "execution_count": 7,
   "metadata": {},
   "outputs": [],
   "source": [
    "#   Gera um csv com informações de ddd, tipo de telefone e o numero\n",
    "f = Faker('pt_BR')\n",
    "quantidade = int(input('informe a quantidadde de registros a ser criado: '))\n",
    "\n",
    "for cadastro in range(quantidade):\n",
    "    with open('tb_telefone.csv', 'a+', encoding='utf-8') as telefones_csv:\n",
    "        tipo_telefone = choice(['CEL', 'COM'])\n",
    "        telefone      = f.msisdn()\n",
    "        ddd_telefone, num_telefone  = telefone[2:4], telefone[4:]\n",
    "\n",
    "        if ddd_telefone and num_telefone not in telefones_csv:\n",
    "            telefones_csv.writelines(f'{tipo_telefone},{telefone},{ddd_telefone}\\n')\n",
    "            \n"
   ]
  },
  {
   "cell_type": "code",
   "execution_count": 8,
   "metadata": {},
   "outputs": [],
   "source": [
    "#   Gera um csv com informações de estado, uf,cidade,bairro,rua,numero da casa\n",
    "for cadastro in range(quantidade):\n",
    "    with open('tb_endereco.csv', 'a+', encoding='utf-8') as enderecos_csv:\n",
    "        estado = f.estado()\n",
    "        uf, nome_estado = estado[0], estado[1]\n",
    "        cidade, bairro  = f.city(), f.bairro()\n",
    "        rua = f.street_name()\n",
    "        num_casa = f.building_number()\n",
    "        \n",
    "        enderecos_csv.writelines(f'{nome_estado},{uf},{cidade},{bairro},{rua},{num_casa}\\n')\n",
    "\n"
   ]
  },
  {
   "cell_type": "code",
   "execution_count": 9,
   "metadata": {},
   "outputs": [],
   "source": [
    "#   Gera um csv com informações dos clientes\n",
    "for cadastro in range(quantidade):\n",
    "    # carregamento de cada cadastro conforme a quantidade desejada\n",
    "    with open('tb_cliente.csv', 'a+', encoding='utf-8') as clientes_csv:\n",
    "        genero = choice(['M', 'F'])\n",
    "        estado, cpf = f.estado_nome(), f.cpf()\n",
    "\n",
    "        if genero == 'M':\n",
    "            primeiro_nome, sobrenome = f.first_name_male(), f.last_name_male() \n",
    "        elif genero =='F':\n",
    "            primeiro_nome, sobrenome  = f.first_name_female(), f.last_name_female()\n",
    "\n",
    "        if cpf not in clientes_csv:\n",
    "            clientes_csv.writelines(f'{primeiro_nome},{sobrenome},{genero},{cpf},{randint(1, quantidade)},{randint(1, quantidade)}\\n')"
   ]
  }
 ],
 "metadata": {
  "kernelspec": {
   "display_name": "Python 3",
   "language": "python",
   "name": "python3"
  },
  "language_info": {
   "codemirror_mode": {
    "name": "ipython",
    "version": 3
   },
   "file_extension": ".py",
   "mimetype": "text/x-python",
   "name": "python",
   "nbconvert_exporter": "python",
   "pygments_lexer": "ipython3",
   "version": "3.11.3"
  },
  "orig_nbformat": 4
 },
 "nbformat": 4,
 "nbformat_minor": 2
}
